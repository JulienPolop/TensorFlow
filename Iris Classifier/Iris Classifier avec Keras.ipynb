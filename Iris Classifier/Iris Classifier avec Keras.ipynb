{
 "cells": [
  {
   "cell_type": "markdown",
   "metadata": {},
   "source": [
    "# Iris Classifier avec Keras\n",
    "\n",
    "Le code ci-dessous montre le fonctionnement de l'API Keras intégrée à Tensorflow avec un réseau de neurone dense basique. Les données sont les données d'entrainement des iris proposée par Tensorflow."
   ]
  },
  {
   "cell_type": "code",
   "execution_count": 1,
   "metadata": {},
   "outputs": [
    {
     "name": "stdout",
     "output_type": "stream",
     "text": [
      "WARNING:tensorflow:From D:\\Program Files\\Anaconda3\\envs\\tensorflow\\lib\\site-packages\\tensorflow\\contrib\\learn\\python\\learn\\datasets\\base.py:198: retry (from tensorflow.contrib.learn.python.learn.datasets.base) is deprecated and will be removed in a future version.\n",
      "Instructions for updating:\n",
      "Use the retry module or similar alternatives.\n",
      "TensorFlow version: 1.7.0\n",
      "Eager execution: True\n"
     ]
    }
   ],
   "source": [
    "from __future__ import absolute_import, division, print_function\n",
    "\n",
    "import os\n",
    "import matplotlib.pyplot as plt\n",
    "\n",
    "import tensorflow as tf\n",
    "import tensorflow.contrib.eager as tfe\n",
    "\n",
    "import numpy as np\n",
    "import pandas as pd\n",
    "import seaborn as sns\n",
    "\n",
    "import csv\n",
    "\n",
    "tf.enable_eager_execution()\n",
    "\n",
    "print(\"TensorFlow version: {}\".format(tf.VERSION))\n",
    "print(\"Eager execution: {}\".format(tf.executing_eagerly()))"
   ]
  },
  {
   "cell_type": "markdown",
   "metadata": {},
   "source": [
    "# Récupération des données"
   ]
  },
  {
   "cell_type": "code",
   "execution_count": 2,
   "metadata": {},
   "outputs": [
    {
     "name": "stdout",
     "output_type": "stream",
     "text": [
      "Local copy of the dataset file: C:\\Users\\julie\\.keras\\datasets\\iris_training.csv\n",
      "120,4,setosa,versicolor,virginica\n",
      "6.4,2.8,5.6,2.2,2\n",
      "5.0,2.3,3.3,1.0,1\n",
      "4.9,2.5,4.5,1.7,2\n",
      "4.9,3.1,1.5,0.1,0\n",
      "5.7,3.8,1.7,0.3,0\n",
      "4.4,3.2,1.3,0.2,0\n",
      "5.4,3.4,1.5,0.4,0\n",
      "6.9,3.1,5.1,2.3,2\n",
      "6.7,3.1,4.4,1.4,1\n",
      "5.1,3.7,1.5,0.4,0\n",
      "5.2,2.7,3.9,1.4,1\n",
      "6.9,3.1,4.9,1.5,1\n",
      "5.8,4.0,1.2,0.2,0\n",
      "5.4,3.9,1.7,0.4,0\n",
      "7.7,3.8,6.7,2.2,2\n",
      "6.3,3.3,4.7,1.6,1\n",
      "6.8,3.2,5.9,2.3,2\n",
      "7.6,3.0,6.6,2.1,2\n",
      "6.4,3.2,5.3,2.3,2\n",
      "5.7,4.4,1.5,0.4,0\n",
      "6.7,3.3,5.7,2.1,2\n",
      "6.4,2.8,5.6,2.1,2\n",
      "5.4,3.9,1.3,0.4,0\n",
      "6.1,2.6,5.6,1.4,2\n",
      "7.2,3.0,5.8,1.6,2\n",
      "5.2,3.5,1.5,0.2,0\n",
      "5.8,2.6,4.0,1.2,1\n",
      "5.9,3.0,5.1,1.8,2\n",
      "5.4,3.0,4.5,1.5,1\n",
      "6.7,3.0,5.0,1.7,1\n",
      "6.3,2.3,4.4,1.3,1\n",
      "5.1,2.5,3.0,1.1,1\n",
      "6.4,3.2,4.5,1.5,1\n",
      "6.8,3.0,5.5,2.1,2\n",
      "6.2,2.8,4.8,1.8,2\n",
      "6.9,3.2,5.7,2.3,2\n",
      "6.5,3.2,5.1,2.0,2\n",
      "5.8,2.8,5.1,2.4,2\n",
      "5.1,3.8,1.5,0.3,0\n",
      "4.8,3.0,1.4,0.3,0\n",
      "7.9,3.8,6.4,2.0,2\n",
      "5.8,2.7,5.1,1.9,2\n",
      "6.7,3.0,5.2,2.3,2\n",
      "5.1,3.8,1.9,0.4,0\n",
      "4.7,3.2,1.6,0.2,0\n",
      "6.0,2.2,5.0,1.5,2\n",
      "4.8,3.4,1.6,0.2,0\n",
      "7.7,2.6,6.9,2.3,2\n",
      "4.6,3.6,1.0,0.2,0\n",
      "7.2,3.2,6.0,1.8,2\n",
      "5.0,3.3,1.4,0.2,0\n",
      "6.6,3.0,4.4,1.4,1\n",
      "6.1,2.8,4.0,1.3,1\n",
      "5.0,3.2,1.2,0.2,0\n",
      "7.0,3.2,4.7,1.4,1\n",
      "6.0,3.0,4.8,1.8,2\n",
      "7.4,2.8,6.1,1.9,2\n",
      "5.8,2.7,5.1,1.9,2\n",
      "6.2,3.4,5.4,2.3,2\n",
      "5.0,2.0,3.5,1.0,1\n",
      "5.6,2.5,3.9,1.1,1\n",
      "6.7,3.1,5.6,2.4,2\n",
      "6.3,2.5,5.0,1.9,2\n",
      "6.4,3.1,5.5,1.8,2\n",
      "6.2,2.2,4.5,1.5,1\n",
      "7.3,2.9,6.3,1.8,2\n",
      "4.4,3.0,1.3,0.2,0\n",
      "7.2,3.6,6.1,2.5,2\n",
      "6.5,3.0,5.5,1.8,2\n",
      "5.0,3.4,1.5,0.2,0\n",
      "4.7,3.2,1.3,0.2,0\n",
      "6.6,2.9,4.6,1.3,1\n",
      "5.5,3.5,1.3,0.2,0\n",
      "7.7,3.0,6.1,2.3,2\n",
      "6.1,3.0,4.9,1.8,2\n",
      "4.9,3.1,1.5,0.1,0\n",
      "5.5,2.4,3.8,1.1,1\n",
      "5.7,2.9,4.2,1.3,1\n",
      "6.0,2.9,4.5,1.5,1\n",
      "6.4,2.7,5.3,1.9,2\n",
      "5.4,3.7,1.5,0.2,0\n",
      "6.1,2.9,4.7,1.4,1\n",
      "6.5,2.8,4.6,1.5,1\n",
      "5.6,2.7,4.2,1.3,1\n",
      "6.3,3.4,5.6,2.4,2\n",
      "4.9,3.1,1.5,0.1,0\n",
      "6.8,2.8,4.8,1.4,1\n",
      "5.7,2.8,4.5,1.3,1\n",
      "6.0,2.7,5.1,1.6,1\n",
      "5.0,3.5,1.3,0.3,0\n",
      "6.5,3.0,5.2,2.0,2\n",
      "6.1,2.8,4.7,1.2,1\n",
      "5.1,3.5,1.4,0.3,0\n",
      "4.6,3.1,1.5,0.2,0\n",
      "6.5,3.0,5.8,2.2,2\n",
      "4.6,3.4,1.4,0.3,0\n",
      "4.6,3.2,1.4,0.2,0\n",
      "7.7,2.8,6.7,2.0,2\n",
      "5.9,3.2,4.8,1.8,1\n",
      "5.1,3.8,1.6,0.2,0\n",
      "4.9,3.0,1.4,0.2,0\n",
      "4.9,2.4,3.3,1.0,1\n",
      "4.5,2.3,1.3,0.3,0\n",
      "5.8,2.7,4.1,1.0,1\n",
      "5.0,3.4,1.6,0.4,0\n",
      "5.2,3.4,1.4,0.2,0\n",
      "5.3,3.7,1.5,0.2,0\n",
      "5.0,3.6,1.4,0.2,0\n",
      "5.6,2.9,3.6,1.3,1\n",
      "4.8,3.1,1.6,0.2,0\n",
      "6.3,2.7,4.9,1.8,2\n",
      "5.7,2.8,4.1,1.3,1\n",
      "5.0,3.0,1.6,0.2,0\n",
      "6.3,3.3,6.0,2.5,2\n",
      "5.0,3.5,1.6,0.6,0\n",
      "5.5,2.6,4.4,1.2,1\n",
      "5.7,3.0,4.2,1.2,1\n",
      "4.4,2.9,1.4,0.2,0\n",
      "4.8,3.0,1.4,0.1,0\n",
      "5.5,2.4,3.7,1.0,1\n"
     ]
    }
   ],
   "source": [
    "train_dataset_url = \"http://download.tensorflow.org/data/iris_training.csv\"\n",
    "\n",
    "train_dataset_fp = tf.keras.utils.get_file(fname=os.path.basename(train_dataset_url),origin=train_dataset_url)\n",
    "\n",
    "print(\"Local copy of the dataset file: {}\".format(train_dataset_fp))\n",
    "\n",
    "with open('iris_training.csv') as csvfile:\n",
    "    spamreader = csv.reader(csvfile, delimiter=' ', quotechar='|')\n",
    "    for row in spamreader:\n",
    "        print(''.join(row))\n",
    "\n"
   ]
  },
  {
   "cell_type": "code",
   "execution_count": 3,
   "metadata": {},
   "outputs": [
    {
     "name": "stdout",
     "output_type": "stream",
     "text": [
      "example features: tf.Tensor([ 6.5999999   2.9000001   4.5999999   1.29999995], shape=(4,), dtype=float32)\n",
      "example label: tf.Tensor(1, shape=(), dtype=int32)\n"
     ]
    }
   ],
   "source": [
    "def parse_csv(line):\n",
    "    example_defaults = [[0.], [0.], [0.], [0.], [0]]  # sets field types\n",
    "    parsed_line = tf.decode_csv(line, example_defaults)\n",
    "    # First 4 fields are features, combine into single tensor\n",
    "    features = tf.reshape(parsed_line[:-1], shape=(4,))\n",
    "    # Last field is the label\n",
    "    label = tf.reshape(parsed_line[-1], shape=())\n",
    "    return features, label\n",
    "\n",
    "train_dataset = tf.data.TextLineDataset(train_dataset_fp)\n",
    "train_dataset = train_dataset.skip(1)             # skip the first header row\n",
    "train_dataset = train_dataset.map(parse_csv)      # parse each row\n",
    "train_dataset = train_dataset.shuffle(buffer_size=1000)  # randomize\n",
    "train_dataset = train_dataset.batch(32)\n",
    "\n",
    "# View a single example entry from a batch\n",
    "features, label = tfe.Iterator(train_dataset).next()\n",
    "print(\"example features:\", features[0])\n",
    "print(\"example label:\", label[0])"
   ]
  },
  {
   "cell_type": "code",
   "execution_count": 4,
   "metadata": {},
   "outputs": [],
   "source": [
    "model = tf.keras.Sequential([\n",
    "  tf.keras.layers.Dense(10, activation=\"relu\", input_shape=(4,)),  # input shape required\n",
    "  tf.keras.layers.Dense(10, activation=\"relu\"),\n",
    "  tf.keras.layers.Dense(3, activation = \"softmax\")\n",
    "])\n",
    "\n",
    "def loss(model, x, y):\n",
    "    y_ = model(x)\n",
    "    return tf.losses.sparse_softmax_cross_entropy(labels=y, logits=y_)\n",
    "\n",
    "def grad(model, inputs, targets):\n",
    "    with tfe.GradientTape() as tape:\n",
    "        loss_value = loss(model, inputs, targets)\n",
    "    return tape.gradient(loss_value, model.variables)\n",
    "\n",
    "optimizer = tf.train.GradientDescentOptimizer(learning_rate=0.005)"
   ]
  },
  {
   "cell_type": "markdown",
   "metadata": {},
   "source": [
    "# Entrainement"
   ]
  },
  {
   "cell_type": "code",
   "execution_count": 5,
   "metadata": {},
   "outputs": [
    {
     "name": "stdout",
     "output_type": "stream",
     "text": [
      "Epoch 000: Loss: 1.090, Accuracy: 30.000%\n",
      "Epoch 050: Loss: 0.959, Accuracy: 70.000%\n",
      "Epoch 100: Loss: 0.889, Accuracy: 70.000%\n",
      "Epoch 150: Loss: 0.848, Accuracy: 70.000%\n",
      "Epoch 200: Loss: 0.836, Accuracy: 70.000%\n",
      "Epoch 250: Loss: 0.812, Accuracy: 70.000%\n",
      "Epoch 300: Loss: 0.791, Accuracy: 70.833%\n",
      "Epoch 350: Loss: 0.768, Accuracy: 85.000%\n",
      "Epoch 400: Loss: 0.751, Accuracy: 90.833%\n",
      "Epoch 450: Loss: 0.732, Accuracy: 94.167%\n",
      "Epoch 500: Loss: 0.709, Accuracy: 96.667%\n",
      "Epoch 550: Loss: 0.691, Accuracy: 97.500%\n",
      "Epoch 600: Loss: 0.677, Accuracy: 97.500%\n",
      "Epoch 650: Loss: 0.662, Accuracy: 98.333%\n",
      "Epoch 700: Loss: 0.650, Accuracy: 98.333%\n",
      "Epoch 750: Loss: 0.638, Accuracy: 98.333%\n",
      "Epoch 800: Loss: 0.635, Accuracy: 98.333%\n",
      "Epoch 850: Loss: 0.626, Accuracy: 98.333%\n",
      "Epoch 900: Loss: 0.621, Accuracy: 98.333%\n",
      "Epoch 950: Loss: 0.617, Accuracy: 98.333%\n",
      "Epoch 1000: Loss: 0.610, Accuracy: 98.333%\n",
      "Epoch 1050: Loss: 0.610, Accuracy: 98.333%\n",
      "Epoch 1100: Loss: 0.605, Accuracy: 98.333%\n",
      "Epoch 1150: Loss: 0.606, Accuracy: 98.333%\n",
      "Epoch 1200: Loss: 0.605, Accuracy: 98.333%\n",
      "Epoch 1250: Loss: 0.598, Accuracy: 98.333%\n",
      "Epoch 1300: Loss: 0.597, Accuracy: 98.333%\n",
      "Epoch 1350: Loss: 0.597, Accuracy: 98.333%\n",
      "Epoch 1400: Loss: 0.595, Accuracy: 98.333%\n",
      "Epoch 1450: Loss: 0.593, Accuracy: 98.333%\n",
      "Epoch 1500: Loss: 0.591, Accuracy: 98.333%\n",
      "Epoch 1550: Loss: 0.591, Accuracy: 97.500%\n",
      "Epoch 1600: Loss: 0.591, Accuracy: 97.500%\n",
      "Epoch 1650: Loss: 0.589, Accuracy: 98.333%\n",
      "Epoch 1700: Loss: 0.588, Accuracy: 98.333%\n",
      "Epoch 1750: Loss: 0.588, Accuracy: 98.333%\n",
      "Epoch 1800: Loss: 0.587, Accuracy: 97.500%\n",
      "Epoch 1850: Loss: 0.588, Accuracy: 98.333%\n",
      "Epoch 1900: Loss: 0.587, Accuracy: 98.333%\n",
      "Epoch 1950: Loss: 0.585, Accuracy: 98.333%\n",
      "Epoch 2000: Loss: 0.588, Accuracy: 98.333%\n",
      "Epoch 2050: Loss: 0.584, Accuracy: 98.333%\n",
      "Epoch 2100: Loss: 0.585, Accuracy: 97.500%\n",
      "Epoch 2150: Loss: 0.583, Accuracy: 98.333%\n",
      "Epoch 2200: Loss: 0.583, Accuracy: 97.500%\n",
      "Epoch 2250: Loss: 0.585, Accuracy: 98.333%\n",
      "Epoch 2300: Loss: 0.584, Accuracy: 98.333%\n",
      "Epoch 2350: Loss: 0.586, Accuracy: 97.500%\n",
      "Epoch 2400: Loss: 0.582, Accuracy: 97.500%\n",
      "Epoch 2450: Loss: 0.580, Accuracy: 97.500%\n",
      "Epoch 2500: Loss: 0.580, Accuracy: 97.500%\n",
      "Epoch 2550: Loss: 0.581, Accuracy: 97.500%\n",
      "Epoch 2600: Loss: 0.583, Accuracy: 97.500%\n",
      "Epoch 2650: Loss: 0.580, Accuracy: 97.500%\n",
      "Epoch 2700: Loss: 0.583, Accuracy: 97.500%\n",
      "Epoch 2750: Loss: 0.580, Accuracy: 97.500%\n",
      "Epoch 2800: Loss: 0.579, Accuracy: 98.333%\n",
      "Epoch 2850: Loss: 0.580, Accuracy: 97.500%\n",
      "Epoch 2900: Loss: 0.577, Accuracy: 98.333%\n",
      "Epoch 2950: Loss: 0.578, Accuracy: 98.333%\n",
      "Epoch 3000: Loss: 0.578, Accuracy: 97.500%\n"
     ]
    },
    {
     "data": {
      "image/png": "[encoded data removed]",
      "text/plain": [
       "<Figure size 864x576 with 2 Axes>"
      ]
     },
     "metadata": {},
     "output_type": "display_data"
    }
   ],
   "source": [
    "\n",
    "## Note: Rerunning this cell uses the same model variables\n",
    "\n",
    "# keep results for plotting\n",
    "train_loss_results = []\n",
    "train_accuracy_results = []\n",
    "\n",
    "num_epochs = 3001\n",
    "\n",
    "for epoch in range(num_epochs):\n",
    "    epoch_loss_avg = tfe.metrics.Mean()\n",
    "    epoch_accuracy = tfe.metrics.Accuracy()\n",
    "\n",
    "  # Training loop - using batches of 32\n",
    "    for x, y in tfe.Iterator(train_dataset):\n",
    "    # Optimize the model\n",
    "        grads = grad(model, x, y)\n",
    "        optimizer.apply_gradients(zip(grads, model.variables),global_step=tf.train.get_or_create_global_step())\n",
    "\n",
    "    # Track progress\n",
    "        epoch_loss_avg(loss(model, x, y))  # add current batch loss\n",
    "    \n",
    "    # compare predicted label to actual label\n",
    "        epoch_accuracy(tf.argmax(model(x), axis=1, output_type=tf.int32), y)\n",
    "\n",
    "  # end epoch\n",
    "    train_loss_results.append(epoch_loss_avg.result())\n",
    "    train_accuracy_results.append(epoch_accuracy.result())\n",
    "\n",
    "    if epoch % 50 == 0:\n",
    "        print(\"Epoch {:03d}: Loss: {:.3f}, Accuracy: {:.3%}\".format(epoch,epoch_loss_avg.result(),epoch_accuracy.result()))\n",
    "        \n",
    "\n",
    "fig, axes = plt.subplots(2, sharex=True, figsize=(12, 8))\n",
    "fig.suptitle('Training Metrics')\n",
    "\n",
    "axes[0].set_ylabel(\"Loss\", fontsize=14)\n",
    "axes[0].plot(train_loss_results)\n",
    "\n",
    "axes[1].set_ylabel(\"Accuracy\", fontsize=14)\n",
    "axes[1].set_xlabel(\"Epoch\", fontsize=14)\n",
    "axes[1].plot(train_accuracy_results)\n",
    "\n",
    "plt.show()"
   ]
  },
  {
   "cell_type": "markdown",
   "metadata": {},
   "source": [
    "# Test"
   ]
  },
  {
   "cell_type": "code",
   "execution_count": 6,
   "metadata": {},
   "outputs": [
    {
     "name": "stdout",
     "output_type": "stream",
     "text": [
      "Test set accuracy: 96.667%\n"
     ]
    }
   ],
   "source": [
    "\n",
    "test_url = \"http://download.tensorflow.org/data/iris_test.csv\"\n",
    "\n",
    "test_fp = tf.keras.utils.get_file(fname=os.path.basename(test_url),\n",
    "                                  origin=test_url)\n",
    "\n",
    "test_dataset = tf.data.TextLineDataset(test_fp)\n",
    "test_dataset = test_dataset.skip(1)             # skip header row\n",
    "test_dataset = test_dataset.map(parse_csv)      # parse each row with the funcition created earlier\n",
    "test_dataset = test_dataset.shuffle(1000)       # randomize\n",
    "test_dataset = test_dataset.batch(32)           # use the same batch size as the training set\n",
    "\n",
    "test_accuracy = tfe.metrics.Accuracy()\n",
    "\n",
    "for (x, y) in tfe.Iterator(test_dataset):\n",
    "    prediction = tf.argmax(model(x), axis=1, output_type=tf.int32)\n",
    "    test_accuracy(prediction, y)\n",
    "\n",
    "print(\"Test set accuracy: {:.3%}\".format(test_accuracy.result()))"
   ]
  },
  {
   "cell_type": "markdown",
   "metadata": {},
   "source": [
    "# Prediction\n",
    "\n",
    "Tenter de prédire des données non labelisée."
   ]
  },
  {
   "cell_type": "code",
   "execution_count": 7,
   "metadata": {},
   "outputs": [
    {
     "name": "stdout",
     "output_type": "stream",
     "text": [
      "Example 0 prediction: Iris setosa\n",
      "Example 1 prediction: Iris versicolor\n",
      "Example 2 prediction: Iris virginica\n"
     ]
    }
   ],
   "source": [
    "class_ids = [\"Iris setosa\", \"Iris versicolor\", \"Iris virginica\"]\n",
    "\n",
    "predict_dataset = tf.convert_to_tensor([\n",
    "    [5.1, 3.3, 1.7, 0.5,],\n",
    "    [5.9, 3.0, 4.2, 1.5,],\n",
    "    [6.9, 3.1, 5.4, 2.1]\n",
    "])\n",
    "\n",
    "predictions = model(predict_dataset)\n",
    "\n",
    "for i, logits in enumerate(predictions):\n",
    "    class_idx = tf.argmax(logits).numpy()\n",
    "    name = class_ids[class_idx]\n",
    "    print(\"Example {} prediction: {}\".format(i, name))"
   ]
  }
 ],
 "metadata": {
  "kernelspec": {
   "display_name": "Python 3",
   "language": "python",
   "name": "python3"
  },
  "language_info": {
   "codemirror_mode": {
    "name": "ipython",
    "version": 3
   },
   "file_extension": ".py",
   "mimetype": "text/x-python",
   "name": "python",
   "nbconvert_exporter": "python",
   "pygments_lexer": "ipython3",
   "version": "3.5.5"
  }
 },
 "nbformat": 4,
 "nbformat_minor": 2
}
