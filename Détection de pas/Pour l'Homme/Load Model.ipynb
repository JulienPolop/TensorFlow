{
 "cells": [
  {
   "cell_type": "code",
   "execution_count": 1,
   "metadata": {},
   "outputs": [],
   "source": [
    "import matplotlib.pyplot as plt\n",
    "import tensorflow as tf\n",
    "import numpy as np"
   ]
  },
  {
   "cell_type": "code",
   "execution_count": 2,
   "metadata": {},
   "outputs": [
    {
     "name": "stdout",
     "output_type": "stream",
     "text": [
      "INFO:tensorflow:Restoring parameters from ./running_model.ckpt\n",
      "(3360, 3)\n",
      "(3360, 3)\n",
      "(84,)\n",
      "(54,)\n",
      "Features et Labels Test:  (138, 40, 3, 1) (138,)\n"
     ]
    },
    {
     "ename": "NameError",
     "evalue": "name 'label_test' is not defined",
     "output_type": "error",
     "traceback": [
      "\u001b[1;31m---------------------------------------------------------------------------\u001b[0m",
      "\u001b[1;31mNameError\u001b[0m                                 Traceback (most recent call last)",
      "\u001b[1;32m<ipython-input-2-6c348d79046d>\u001b[0m in \u001b[0;36m<module>\u001b[1;34m()\u001b[0m\n\u001b[0;32m     26\u001b[0m \u001b[1;33m\u001b[0m\u001b[0m\n\u001b[0;32m     27\u001b[0m \u001b[1;33m\u001b[0m\u001b[0m\n\u001b[1;32m---> 28\u001b[1;33m \u001b[0maccuracy_val\u001b[0m \u001b[1;33m=\u001b[0m \u001b[0msess\u001b[0m\u001b[1;33m.\u001b[0m\u001b[0mrun\u001b[0m\u001b[1;33m(\u001b[0m\u001b[1;33m[\u001b[0m\u001b[0mtensor_accuracy\u001b[0m\u001b[1;33m]\u001b[0m\u001b[1;33m,\u001b[0m \u001b[0mfeed_dict\u001b[0m\u001b[1;33m=\u001b[0m\u001b[1;33m{\u001b[0m\u001b[0mx\u001b[0m\u001b[1;33m:\u001b[0m \u001b[0mfeatures_test\u001b[0m\u001b[1;33m,\u001b[0m \u001b[0my\u001b[0m\u001b[1;33m:\u001b[0m \u001b[0mlabel_test\u001b[0m\u001b[1;33m}\u001b[0m\u001b[1;33m)\u001b[0m\u001b[1;33m\u001b[0m\u001b[0m\n\u001b[0m\u001b[0;32m     29\u001b[0m \u001b[0mresult_val\u001b[0m \u001b[1;33m=\u001b[0m \u001b[0mtensor_result\u001b[0m\u001b[1;33m\u001b[0m\u001b[0m\n\u001b[0;32m     30\u001b[0m \u001b[1;33m\u001b[0m\u001b[0m\n",
      "\u001b[1;31mNameError\u001b[0m: name 'label_test' is not defined"
     ]
    }
   ],
   "source": [
    "sess=tf.Session()  \n",
    "saver = tf.train.import_meta_graph(\"./Model.meta\")\n",
    "saver.restore(sess,tf.train.latest_checkpoint('./'))\n",
    "graph = tf.get_default_graph()\n",
    "\n",
    "x = graph.get_tensor_by_name(\"input:0\")\n",
    "y = graph.get_tensor_by_name(\"label:0\")\n",
    "tensor_accuracy = graph.get_tensor_by_name(\"accuracy/accuracy_value:0\")\n",
    "tensor_result = graph.get_tensor_by_name(\"final_result:0\")\n",
    "\n",
    "Data_Marche_Test = np.loadtxt(\"Marche_Test.txt\") \n",
    "print (Data_Marche_Test.shape)\n",
    "Data_Course_Test = np.loadtxt(\"Course_Test.txt\") \n",
    "print (Data_Marche_Test.shape)\n",
    "\n",
    "Labels_Marche_Test = np.zeros(int(Data_Marche_Test.shape[0]/40),)\n",
    "print (Labels_Marche_Test.shape)\n",
    "Labels_Course_Test = np.ones(int(Data_Course_Test.shape[0]/40),)\n",
    "print (Labels_Course_Test.shape)\n",
    "\n",
    "features_test = np.append(Data_Marche_Test,Data_Course_Test, axis=0)\n",
    "labels_test = np.append(Labels_Marche_Test,Labels_Course_Test, axis=0)\n",
    "features_test = features_test.reshape(int(features_test.shape[0]/40),40,3, 1)\n",
    "print(\"Features et Labels Test: \",features_test.shape, labels_test.shape)\n",
    "\n",
    "\n",
    "\n",
    "accuracy_val = sess.run([tensor_accuracy], feed_dict={x: features_test, y: labels_test})\n",
    "result_val = tensor_result\n",
    "\n",
    "print(\"Test set accuracy:\", accuracy_val)\n",
    "print(\"Prédi\",result_val)\n",
    "print(\"labels\",labels_test)"
   ]
  },
  {
   "cell_type": "code",
   "execution_count": null,
   "metadata": {},
   "outputs": [],
   "source": []
  }
 ],
 "metadata": {
  "kernelspec": {
   "display_name": "Python 3",
   "language": "python",
   "name": "python3"
  },
  "language_info": {
   "codemirror_mode": {
    "name": "ipython",
    "version": 3
   },
   "file_extension": ".py",
   "mimetype": "text/x-python",
   "name": "python",
   "nbconvert_exporter": "python",
   "pygments_lexer": "ipython3",
   "version": "3.5.5"
  }
 },
 "nbformat": 4,
 "nbformat_minor": 2
}
